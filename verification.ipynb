{
 "cells": [
  {
   "cell_type": "markdown",
   "metadata": {},
   "source": [
    "# Verification"
   ]
  },
  {
   "cell_type": "markdown",
   "metadata": {},
   "source": [
    "Voor de eerste 3 queries kan je je oplossing al testen via deze verification notebook! \n",
    "\n",
    "- Eerst wordt je script automatisch gerund met verschillende parameters\n",
    "    - Deze worden ingeladen van `all_q_param.json` in de `solution` folder.\n",
    "- De (eventuele) resultaten worden opgeslagen in csv files (in de `out` folder)\n",
    "- Die csv files worden vergeleken met de csv files van de oplossing (te vinden in de `solution` folder).\n",
    "- Elke query krijgt een score toegekend. Cf. https://en.wikipedia.org/wiki/F1_score.  \n",
    "- Een kort rapport wordt weergegeven die je pointers kan geven over wat er mis is met je query. \n",
    "    - TP: True Positives\n",
    "    - TN: True Negatives\n",
    "    - FP: False Positives"
   ]
  },
  {
   "cell_type": "markdown",
   "metadata": {},
   "source": [
    "## Preliminaries"
   ]
  },
  {
   "cell_type": "code",
   "execution_count": 1,
   "metadata": {},
   "outputs": [],
   "source": [
    "# De benodigde packages\n",
    "import getpass         # Package om een paswoordveldje te genereren.\n",
    "import mysql.connector # MySQL package\n",
    "import os\n",
    "import sys\n",
    "import pandas as pd"
   ]
  },
  {
   "cell_type": "code",
   "execution_count": 2,
   "metadata": {},
   "outputs": [],
   "source": [
    "# Importeren van onze custom tools\n",
    "sys.path.append(os.path.join(os.getcwd(), 'src')) # Add src folder to our PATH variable\n",
    "from execution import *\n",
    "from evaluation import *"
   ]
  },
  {
   "cell_type": "code",
   "execution_count": 3,
   "metadata": {
    "code_folding": [
     0
    ]
   },
   "outputs": [],
   "source": [
    "def verbind_met_GB(username, hostname, gegevensbanknaam):\n",
    "    \"\"\"\n",
    "    Maak verbinding met een externe gegevensbank\n",
    "    \n",
    "    :param  username:          username van de gebruiker, string\n",
    "    :param  hostname:          naam van de host, string.\n",
    "                               Dit is in het geval van een lokale server gewoon 'localhost'\n",
    "    :param  gegevensbanknaam:  naam van de gegevensbank, string.\n",
    "    :return connection:        connection object, dit is wat teruggeven wordt \n",
    "                               door connect() methods van packages die voldoen aan de DB-API\n",
    "    \"\"\"\n",
    "    \n",
    "    password = getpass.getpass() # Genereer vakje voor wachtwoord in te geven\n",
    "    \n",
    "    connection = mysql.connector.connect(host=hostname,\n",
    "                                         user=username,\n",
    "                                         passwd=password,\n",
    "                                         db=gegevensbanknaam)\n",
    "    return connection"
   ]
  },
  {
   "cell_type": "markdown",
   "metadata": {},
   "source": [
    "## Execution"
   ]
  },
  {
   "cell_type": "markdown",
   "metadata": {},
   "source": [
    "Eerst dien je terug verbinding te maken met de gegevensbank."
   ]
  },
  {
   "cell_type": "code",
   "execution_count": 4,
   "metadata": {},
   "outputs": [
    {
     "name": "stdout",
     "output_type": "stream",
     "text": [
      "········\n"
     ]
    }
   ],
   "source": [
    "username = 'root'      # Vervang dit als je via een andere user queries stuurt\n",
    "hostname = 'localhost' # Als je een gegevensbank lokaal hebt opgezet, is dit localhost.\n",
    "db = 'lahman2016'      # Naam van de gegevensbank op je XAMPP Mysql server\n",
    "\n",
    "# We verbinden met de gegevensbank\n",
    "c = verbind_met_GB(username, hostname, db)"
   ]
  },
  {
   "cell_type": "markdown",
   "metadata": {},
   "source": [
    "Dan dien je de filename van je ingevuld script in te vullen."
   ]
  },
  {
   "cell_type": "code",
   "execution_count": 12,
   "metadata": {},
   "outputs": [],
   "source": [
    "# filename = os.path.join(os.getcwd(), 'scripts', 'example.py') # Dummy example\n",
    "\n",
    "filename = os.path.join(os.getcwd(),'assignment.ipynb') # Vul filename van je ingevuld script hier in"
   ]
  },
  {
   "cell_type": "markdown",
   "metadata": {},
   "source": [
    "Nu runnen we het script. \n",
    "\n",
    "De parameters en de kolomnamen worden automatisch ingelezen uit de json files in de `solution` folder."
   ]
  },
  {
   "cell_type": "code",
   "execution_count": 13,
   "metadata": {},
   "outputs": [
    {
     "ename": "AttributeError",
     "evalue": "'NoneType' object has no attribute 'loader'",
     "output_type": "error",
     "traceback": [
      "\u001b[1;31m---------------------------------------------------------------------------\u001b[0m",
      "\u001b[1;31mAttributeError\u001b[0m                            Traceback (most recent call last)",
      "\u001b[1;32m<ipython-input-13-1cad3bd5ea5b>\u001b[0m in \u001b[0;36m<module>\u001b[1;34m()\u001b[0m\n\u001b[1;32m----> 1\u001b[1;33m \u001b[0mrun_external_script\u001b[0m\u001b[1;33m(\u001b[0m\u001b[0mfilename\u001b[0m\u001b[1;33m,\u001b[0m \u001b[0mc\u001b[0m\u001b[1;33m)\u001b[0m \u001b[1;31m# Run script with provided parameters and column names\u001b[0m\u001b[1;33m\u001b[0m\u001b[0m\n\u001b[0m",
      "\u001b[1;32m~\\Documents\\3e_bachelor\\2e_semester\\CW\\gegevensbanken\\project\\deel3\\Deel3_Gegevensbanken\\project_gegevensbanken\\src\\execution.py\u001b[0m in \u001b[0;36mrun_external_script\u001b[1;34m(fname, connection, all_q_colnam, all_q_params)\u001b[0m\n\u001b[0;32m     49\u001b[0m     fs, all_q_names, all_q_method, all_q_colnam, all_q_params = before_execution(fname,\n\u001b[0;32m     50\u001b[0m                                                                                  \u001b[0mall_q_colnam\u001b[0m\u001b[1;33m,\u001b[0m\u001b[1;33m\u001b[0m\u001b[0m\n\u001b[1;32m---> 51\u001b[1;33m                                                                                  all_q_params)\n\u001b[0m\u001b[0;32m     52\u001b[0m \u001b[1;33m\u001b[0m\u001b[0m\n\u001b[0;32m     53\u001b[0m     run_all_queries(fs,\n",
      "\u001b[1;32m~\\Documents\\3e_bachelor\\2e_semester\\CW\\gegevensbanken\\project\\deel3\\Deel3_Gegevensbanken\\project_gegevensbanken\\src\\execution.py\u001b[0m in \u001b[0;36mbefore_execution\u001b[1;34m(fname, all_q_colnam, all_q_params)\u001b[0m\n\u001b[0;32m     33\u001b[0m \u001b[1;33m\u001b[0m\u001b[0m\n\u001b[0;32m     34\u001b[0m \u001b[1;32mdef\u001b[0m \u001b[0mbefore_execution\u001b[0m\u001b[1;33m(\u001b[0m\u001b[0mfname\u001b[0m\u001b[1;33m,\u001b[0m \u001b[0mall_q_colnam\u001b[0m\u001b[1;33m=\u001b[0m\u001b[1;32mNone\u001b[0m\u001b[1;33m,\u001b[0m \u001b[0mall_q_params\u001b[0m\u001b[1;33m=\u001b[0m\u001b[1;32mNone\u001b[0m\u001b[1;33m)\u001b[0m\u001b[1;33m:\u001b[0m\u001b[1;33m\u001b[0m\u001b[0m\n\u001b[1;32m---> 35\u001b[1;33m     \u001b[0mfs\u001b[0m\u001b[1;33m,\u001b[0m \u001b[0mmodule\u001b[0m \u001b[1;33m=\u001b[0m \u001b[0mprepare_execution\u001b[0m\u001b[1;33m(\u001b[0m\u001b[0mfname\u001b[0m\u001b[1;33m)\u001b[0m\u001b[1;33m\u001b[0m\u001b[0m\n\u001b[0m\u001b[0;32m     36\u001b[0m \u001b[1;33m\u001b[0m\u001b[0m\n\u001b[0;32m     37\u001b[0m     \u001b[1;32mif\u001b[0m \u001b[0mall_q_colnam\u001b[0m \u001b[1;32mis\u001b[0m \u001b[1;32mNone\u001b[0m\u001b[1;33m:\u001b[0m\u001b[1;33m\u001b[0m\u001b[0m\n",
      "\u001b[1;32m~\\Documents\\3e_bachelor\\2e_semester\\CW\\gegevensbanken\\project\\deel3\\Deel3_Gegevensbanken\\project_gegevensbanken\\src\\execution.py\u001b[0m in \u001b[0;36mprepare_execution\u001b[1;34m(fname, mode)\u001b[0m\n\u001b[0;32m     27\u001b[0m     \u001b[0mmake_empty_dir\u001b[0m\u001b[1;33m(\u001b[0m\u001b[0mfs\u001b[0m\u001b[1;33m[\u001b[0m\u001b[1;34m'dir'\u001b[0m\u001b[1;33m]\u001b[0m\u001b[1;33m[\u001b[0m\u001b[1;34m'out'\u001b[0m\u001b[1;33m]\u001b[0m\u001b[1;33m)\u001b[0m\u001b[1;33m\u001b[0m\u001b[0m\n\u001b[0;32m     28\u001b[0m \u001b[1;33m\u001b[0m\u001b[0m\n\u001b[1;32m---> 29\u001b[1;33m     \u001b[0mmodule\u001b[0m \u001b[1;33m=\u001b[0m \u001b[0mload_external_script\u001b[0m\u001b[1;33m(\u001b[0m\u001b[0mfs\u001b[0m\u001b[1;33m[\u001b[0m\u001b[1;34m'file'\u001b[0m\u001b[1;33m]\u001b[0m\u001b[1;33m[\u001b[0m\u001b[1;34m'script'\u001b[0m\u001b[1;33m]\u001b[0m\u001b[1;33m,\u001b[0m \u001b[0mmod_name\u001b[0m\u001b[1;33m=\u001b[0m\u001b[0mfs\u001b[0m\u001b[1;33m[\u001b[0m\u001b[1;34m'identifier'\u001b[0m\u001b[1;33m]\u001b[0m\u001b[1;33m)\u001b[0m\u001b[1;33m\u001b[0m\u001b[0m\n\u001b[0m\u001b[0;32m     30\u001b[0m \u001b[1;33m\u001b[0m\u001b[0m\n\u001b[0;32m     31\u001b[0m     \u001b[1;32mreturn\u001b[0m \u001b[0mfs\u001b[0m\u001b[1;33m,\u001b[0m \u001b[0mmodule\u001b[0m\u001b[1;33m\u001b[0m\u001b[0m\n",
      "\u001b[1;32m~\\Documents\\3e_bachelor\\2e_semester\\CW\\gegevensbanken\\project\\deel3\\Deel3_Gegevensbanken\\project_gegevensbanken\\src\\execution.py\u001b[0m in \u001b[0;36mload_external_script\u001b[1;34m(fname, mod_name)\u001b[0m\n\u001b[0;32m     69\u001b[0m \u001b[1;33m\u001b[0m\u001b[0m\n\u001b[0;32m     70\u001b[0m     \u001b[0mspec\u001b[0m \u001b[1;33m=\u001b[0m \u001b[0miu\u001b[0m\u001b[1;33m.\u001b[0m\u001b[0mspec_from_file_location\u001b[0m\u001b[1;33m(\u001b[0m\u001b[0mmod_name\u001b[0m\u001b[1;33m,\u001b[0m \u001b[0mfname\u001b[0m\u001b[1;33m)\u001b[0m\u001b[1;33m\u001b[0m\u001b[0m\n\u001b[1;32m---> 71\u001b[1;33m     \u001b[0mmodule\u001b[0m \u001b[1;33m=\u001b[0m \u001b[0miu\u001b[0m\u001b[1;33m.\u001b[0m\u001b[0mmodule_from_spec\u001b[0m\u001b[1;33m(\u001b[0m\u001b[0mspec\u001b[0m\u001b[1;33m)\u001b[0m\u001b[1;33m\u001b[0m\u001b[0m\n\u001b[0m\u001b[0;32m     72\u001b[0m     \u001b[0mspec\u001b[0m\u001b[1;33m.\u001b[0m\u001b[0mloader\u001b[0m\u001b[1;33m.\u001b[0m\u001b[0mexec_module\u001b[0m\u001b[1;33m(\u001b[0m\u001b[0mmodule\u001b[0m\u001b[1;33m)\u001b[0m\u001b[1;33m\u001b[0m\u001b[0m\n\u001b[0;32m     73\u001b[0m \u001b[1;33m\u001b[0m\u001b[0m\n",
      "\u001b[1;32m~\\Anaconda3\\lib\\importlib\\_bootstrap.py\u001b[0m in \u001b[0;36mmodule_from_spec\u001b[1;34m(spec)\u001b[0m\n",
      "\u001b[1;31mAttributeError\u001b[0m: 'NoneType' object has no attribute 'loader'"
     ]
    }
   ],
   "source": [
    "run_external_script(filename, c) # Run script with provided parameters and column names"
   ]
  },
  {
   "cell_type": "markdown",
   "metadata": {},
   "source": [
    "## 3. Evaluation\n",
    "\n",
    "Het externe script is nu uitgevoerd met de door ons vastgelegde parameters. Op die manier zijn er csv files gemaakt in de `out` directory.\n",
    "\n",
    "Die csv files worden nu vergeleken met door ons aangemaakte csv files van de correcte oplossingen. Op die manier wordt de score berekend."
   ]
  },
  {
   "cell_type": "markdown",
   "metadata": {},
   "source": [
    "1. Load all solution csvs\n",
    "2. Collect them in a dict\n",
    "3. Verify that you have a df for each parameter setting"
   ]
  },
  {
   "cell_type": "code",
   "execution_count": 8,
   "metadata": {},
   "outputs": [
    {
     "name": "stdout",
     "output_type": "stream",
     "text": [
      "\n",
      "\n",
      "\n",
      "---  ---  --- -- ---  ---  ---\n",
      "\n",
      "Result for query: 01\n",
      "\n",
      "With parameters:\n",
      "Overall score: 100%\n",
      "Breakdown:\n",
      "\tPerfect match = Congratulations!\n",
      "\n",
      "\n",
      "\n",
      "---  ---  --- -- ---  ---  ---\n",
      "\n",
      "Result for query: 02\n",
      "\n",
      "With parameters:\n",
      "\tdatum = 1980-01-16\n",
      "Overall score: 100%\n",
      "Breakdown:\n",
      "\tPerfect match = Congratulations!\n",
      "\n",
      "\n",
      "\n",
      "---  ---  --- -- ---  ---  ---\n",
      "\n",
      "Result for query: 02\n",
      "\n",
      "With parameters:\n",
      "\tdatum = 1985-01-16\n",
      "Overall score: 100%\n",
      "Breakdown:\n",
      "\tPerfect match = Congratulations!\n",
      "\n",
      "\n",
      "\n",
      "---  ---  --- -- ---  ---  ---\n",
      "\n",
      "Result for query: 03\n",
      "\n",
      "With parameters:\n",
      "Overall score: 90.0%\n",
      "Breakdown:\n",
      "\tTP        = 906\n",
      "\tFP        = 0\n",
      "\tFN        = 0\n",
      "\tprecision = 1.0\n",
      "\trecall    = 1.0\n",
      "\tF1        = 1.0\n",
      "\tRemark    = \n",
      "    Your result was not a perfect match. Therefore your score is calculated as (F1*0.9).\n",
      "    If you had a perfect F1 score, this means that you returned all tuples perfectly,\n",
      "    but forgot to order them.\n",
      "    \n",
      "\n"
     ]
    }
   ],
   "source": [
    "print(evaluate_script(filename))"
   ]
  }
 ],
 "metadata": {
  "kernelspec": {
   "display_name": "Python 3",
   "language": "python",
   "name": "python3"
  },
  "language_info": {
   "codemirror_mode": {
    "name": "ipython",
    "version": 3
   },
   "file_extension": ".py",
   "mimetype": "text/x-python",
   "name": "python",
   "nbconvert_exporter": "python",
   "pygments_lexer": "ipython3",
   "version": "3.6.4"
  },
  "toc": {
   "nav_menu": {},
   "number_sections": true,
   "sideBar": true,
   "skip_h1_title": true,
   "title_cell": "Table of Contents",
   "title_sidebar": "Contents",
   "toc_cell": false,
   "toc_position": {},
   "toc_section_display": true,
   "toc_window_display": true
  }
 },
 "nbformat": 4,
 "nbformat_minor": 2
}
